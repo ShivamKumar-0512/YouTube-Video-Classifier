{
 "cells": [
  {
   "cell_type": "code",
   "execution_count": 1,
   "id": "1147da89",
   "metadata": {},
   "outputs": [],
   "source": [
    "from googleapiclient.discovery import build\n",
    "import pandas as pd"
   ]
  },
  {
   "cell_type": "code",
   "execution_count": 8,
   "id": "353c96f4",
   "metadata": {},
   "outputs": [],
   "source": [
    "api_key = \"api\""
   ]
  },
  {
   "cell_type": "code",
   "execution_count": 9,
   "id": "9048e4d5",
   "metadata": {},
   "outputs": [],
   "source": [
    "youtube = build('youtube', 'v3', developerKey=api_key)"
   ]
  },
  {
   "cell_type": "code",
   "execution_count": 35,
   "id": "56bbc19b",
   "metadata": {},
   "outputs": [],
   "source": [
    "def get_video_details(youtube, video_id):\n",
    "    request = youtube.videos().list(part='snippet,statistics',id=video_id)\n",
    "    response = request.execute()['items'][0]\n",
    "#     categoryId = int(response['snippet'].get('categoryId'))\n",
    "    title = response['snippet'].get('title')\n",
    "    tags = response['snippet'].get('tags')\n",
    "    tag = ' '.join(tags)    \n",
    "    return title+tag"
   ]
  },
  {
   "cell_type": "code",
   "execution_count": 36,
   "id": "f9278cc2",
   "metadata": {},
   "outputs": [],
   "source": [
    "video_id=\"o1WHsAcQTWg\""
   ]
  },
  {
   "cell_type": "code",
   "execution_count": 37,
   "id": "6ada061e",
   "metadata": {},
   "outputs": [],
   "source": [
    "dt = get_video_details(youtube,video_id)"
   ]
  },
  {
   "cell_type": "code",
   "execution_count": 38,
   "id": "28c6dfd6",
   "metadata": {},
   "outputs": [
    {
     "data": {
      "text/plain": [
       "'First USA and Now France Lists India Officially | देश की रणनीति में भारत शामिलprashant dhawan prashant dhawan world affairs world affairs current affairs current affairs today unacademy upsc current affairs emmanuel macron in india emmanuel macron india today macron in india president macron macron modi meet emmanuel macron modi pm modi pm macron french president in india india france narendra modi emmanuel macron emmanuel macron india today interview india france news usa france india'"
      ]
     },
     "execution_count": 38,
     "metadata": {},
     "output_type": "execute_result"
    }
   ],
   "source": [
    "dt"
   ]
  },
  {
   "cell_type": "code",
   "execution_count": null,
   "id": "c59d8cbe",
   "metadata": {},
   "outputs": [],
   "source": []
  }
 ],
 "metadata": {
  "kernelspec": {
   "display_name": "ytEnv",
   "language": "python",
   "name": "ytenv"
  },
  "language_info": {
   "codemirror_mode": {
    "name": "ipython",
    "version": 3
   },
   "file_extension": ".py",
   "mimetype": "text/x-python",
   "name": "python",
   "nbconvert_exporter": "python",
   "pygments_lexer": "ipython3",
   "version": "3.10.4"
  }
 },
 "nbformat": 4,
 "nbformat_minor": 5
}
